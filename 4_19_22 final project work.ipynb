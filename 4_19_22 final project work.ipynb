{
 "cells": [
  {
   "cell_type": "code",
   "execution_count": 169,
   "id": "9c1a56ac",
   "metadata": {},
   "outputs": [],
   "source": [
    "import numpy as np\n",
    "import pandas as pd\n",
    "\n",
    "np.set_printoptions(precision = 3, suppress = True)\n",
    "\n",
    "import tensorflow as tf\n",
    "from tensorflow.keras import layers"
   ]
  },
  {
   "cell_type": "code",
   "execution_count": 170,
   "id": "bb009b5b",
   "metadata": {},
   "outputs": [],
   "source": [
    "# loading csv data\n",
    "df = pd.read_csv(\"/Users/olivia.wilcox13/Documents/PQHS 416/pqhs416_dataset.csv\")\n",
    "\n",
    "df = df.dropna()"
   ]
  },
  {
   "cell_type": "code",
   "execution_count": 171,
   "id": "a0ba2511",
   "metadata": {},
   "outputs": [
    {
     "data": {
      "text/plain": [
       "(78,)"
      ]
     },
     "execution_count": 171,
     "metadata": {},
     "output_type": "execute_result"
    }
   ],
   "source": [
    "y = df['DIAGNOSIS'].values\n",
    "y.shape"
   ]
  },
  {
   "cell_type": "code",
   "execution_count": 172,
   "id": "0d70e677",
   "metadata": {},
   "outputs": [
    {
     "data": {
      "text/plain": [
       "(78, 4)"
      ]
     },
     "execution_count": 172,
     "metadata": {},
     "output_type": "execute_result"
    }
   ],
   "source": [
    "x = df[['MICROSCOPY','IMAGING RESULTS','IMMUNOHISTOCHEMISTRY','BRAIN LOCALIZATION']].values\n",
    "x.shape"
   ]
  },
  {
   "cell_type": "code",
   "execution_count": 173,
   "id": "65b949d2",
   "metadata": {},
   "outputs": [
    {
     "data": {
      "text/plain": [
       "(46, 4)"
      ]
     },
     "execution_count": 173,
     "metadata": {},
     "output_type": "execute_result"
    }
   ],
   "source": [
    "import matplotlib.pyplot as plt\n",
    "from sklearn.model_selection import train_test_split\n",
    "\n",
    "#splitting into training and testing\n",
    "(x_train, x_test, y_train, y_test) = train_test_split(x,y, test_size = 0.4)\n",
    "x_train.shape"
   ]
  },
  {
   "cell_type": "code",
   "execution_count": 174,
   "id": "9bac388a",
   "metadata": {},
   "outputs": [
    {
     "data": {
      "text/html": [
       "<div>\n",
       "<style scoped>\n",
       "    .dataframe tbody tr th:only-of-type {\n",
       "        vertical-align: middle;\n",
       "    }\n",
       "\n",
       "    .dataframe tbody tr th {\n",
       "        vertical-align: top;\n",
       "    }\n",
       "\n",
       "    .dataframe thead th {\n",
       "        text-align: right;\n",
       "    }\n",
       "</style>\n",
       "<table border=\"1\" class=\"dataframe\">\n",
       "  <thead>\n",
       "    <tr style=\"text-align: right;\">\n",
       "      <th></th>\n",
       "      <th>diagnosis</th>\n",
       "      <th>microscopy</th>\n",
       "      <th>imaging results</th>\n",
       "      <th>immunohistochemistry</th>\n",
       "      <th>brain localization</th>\n",
       "    </tr>\n",
       "  </thead>\n",
       "  <tbody>\n",
       "    <tr>\n",
       "      <th>0</th>\n",
       "      <td>Focal Cortical Dysplasia Type Ib</td>\n",
       "      <td>Neuronal cell loss</td>\n",
       "      <td>Minor encephalocele</td>\n",
       "      <td>NFSMI32-negative</td>\n",
       "      <td>Temporal lobe</td>\n",
       "    </tr>\n",
       "    <tr>\n",
       "      <th>1</th>\n",
       "      <td>Focal Cortical Dysplasia TypeIIb</td>\n",
       "      <td>Dyslamination</td>\n",
       "      <td>Possible cortical dysplasia</td>\n",
       "      <td>MAP2-positive</td>\n",
       "      <td>Left occipital lobe</td>\n",
       "    </tr>\n",
       "    <tr>\n",
       "      <th>2</th>\n",
       "      <td>Dysembryoplastic neuroepithelial tumor WHO Gra...</td>\n",
       "      <td>Neuroepithelial tumor</td>\n",
       "      <td>Neuroglial tumor</td>\n",
       "      <td>MAP2-positive</td>\n",
       "      <td>Left mesial temporal region</td>\n",
       "    </tr>\n",
       "    <tr>\n",
       "      <th>3</th>\n",
       "      <td>Hippocampal sclerosis type I</td>\n",
       "      <td>No tumor inflammation</td>\n",
       "      <td>Hippocampal sclerosis</td>\n",
       "      <td>GFAP-positive</td>\n",
       "      <td>Amygdala</td>\n",
       "    </tr>\n",
       "    <tr>\n",
       "      <th>4</th>\n",
       "      <td>Focal Cortical Dysplasia TypeIIb</td>\n",
       "      <td>Neuronal dysmorphia</td>\n",
       "      <td>Right parietal and occipital lobe lesion</td>\n",
       "      <td>MAP2-positive</td>\n",
       "      <td>Right parietal lobe</td>\n",
       "    </tr>\n",
       "  </tbody>\n",
       "</table>\n",
       "</div>"
      ],
      "text/plain": [
       "                                           diagnosis             microscopy  \\\n",
       "0                   Focal Cortical Dysplasia Type Ib     Neuronal cell loss   \n",
       "1                   Focal Cortical Dysplasia TypeIIb          Dyslamination   \n",
       "2  Dysembryoplastic neuroepithelial tumor WHO Gra...  Neuroepithelial tumor   \n",
       "3                       Hippocampal sclerosis type I  No tumor inflammation   \n",
       "4                   Focal Cortical Dysplasia TypeIIb    Neuronal dysmorphia   \n",
       "\n",
       "                            imaging results immunohistochemistry  \\\n",
       "0                       Minor encephalocele     NFSMI32-negative   \n",
       "1               Possible cortical dysplasia        MAP2-positive   \n",
       "2                          Neuroglial tumor        MAP2-positive   \n",
       "3                     Hippocampal sclerosis        GFAP-positive   \n",
       "4  Right parietal and occipital lobe lesion        MAP2-positive   \n",
       "\n",
       "            brain localization  \n",
       "0                Temporal lobe  \n",
       "1          Left occipital lobe  \n",
       "2  Left mesial temporal region  \n",
       "3                     Amygdala  \n",
       "4          Right parietal lobe  "
      ]
     },
     "execution_count": 174,
     "metadata": {},
     "output_type": "execute_result"
    }
   ],
   "source": [
    "#making training dataframe\n",
    "df1 =pd.DataFrame(x_train)\n",
    "df1=df1.rename(columns={0:'microscopy', 1:'imaging results', 2:'immunohistochemistry', 3:'brain localization'})\n",
    "df2 = pd.DataFrame(y_train)\n",
    "df2 = df2.rename(columns = {0:'diagnosis'})\n",
    "df_train = pd.concat([df2, df1], axis=1)\n",
    "df_train.head()"
   ]
  },
  {
   "cell_type": "code",
   "execution_count": 175,
   "id": "ffdaf1bc",
   "metadata": {},
   "outputs": [
    {
     "data": {
      "text/html": [
       "<div>\n",
       "<style scoped>\n",
       "    .dataframe tbody tr th:only-of-type {\n",
       "        vertical-align: middle;\n",
       "    }\n",
       "\n",
       "    .dataframe tbody tr th {\n",
       "        vertical-align: top;\n",
       "    }\n",
       "\n",
       "    .dataframe thead th {\n",
       "        text-align: right;\n",
       "    }\n",
       "</style>\n",
       "<table border=\"1\" class=\"dataframe\">\n",
       "  <thead>\n",
       "    <tr style=\"text-align: right;\">\n",
       "      <th></th>\n",
       "      <th>diagnosis</th>\n",
       "      <th>microscopy</th>\n",
       "      <th>imaging results</th>\n",
       "      <th>immunohistochemistry</th>\n",
       "      <th>brain localization</th>\n",
       "    </tr>\n",
       "  </thead>\n",
       "  <tbody>\n",
       "    <tr>\n",
       "      <th>0</th>\n",
       "      <td>Focal Cortical Dysplasia TypeIIb</td>\n",
       "      <td>Infarction</td>\n",
       "      <td>Left inferior frontal gyrus</td>\n",
       "      <td>NFSMI32-positive</td>\n",
       "      <td>Left inferior frontal gyrus</td>\n",
       "    </tr>\n",
       "    <tr>\n",
       "      <th>1</th>\n",
       "      <td>Oligodendroglial hyperplasia</td>\n",
       "      <td>No neuronal dysmorphia</td>\n",
       "      <td>Right frontal  lobe</td>\n",
       "      <td>NFSMI32-negative</td>\n",
       "      <td>Right frontal lobe</td>\n",
       "    </tr>\n",
       "    <tr>\n",
       "      <th>2</th>\n",
       "      <td>Mild Malformation of Cortical Development Type II</td>\n",
       "      <td>No neuronal dysmorphia</td>\n",
       "      <td>Temporal lobe mass</td>\n",
       "      <td>MAP2-positive</td>\n",
       "      <td>Left temporal lobe</td>\n",
       "    </tr>\n",
       "    <tr>\n",
       "      <th>3</th>\n",
       "      <td>Ganglioglioma WHO grade I</td>\n",
       "      <td>Neuroeptihelial tumor</td>\n",
       "      <td>Right posterior temporal lesion</td>\n",
       "      <td>GFAP-positive</td>\n",
       "      <td>Right posterior temporal</td>\n",
       "    </tr>\n",
       "    <tr>\n",
       "      <th>4</th>\n",
       "      <td>Focal Cortical Dysplasia Type Ib</td>\n",
       "      <td>Dyslamination</td>\n",
       "      <td>Normal</td>\n",
       "      <td>MAP2-positive</td>\n",
       "      <td>Right frontal lobe</td>\n",
       "    </tr>\n",
       "  </tbody>\n",
       "</table>\n",
       "</div>"
      ],
      "text/plain": [
       "                                           diagnosis              microscopy  \\\n",
       "0                   Focal Cortical Dysplasia TypeIIb              Infarction   \n",
       "1                       Oligodendroglial hyperplasia  No neuronal dysmorphia   \n",
       "2  Mild Malformation of Cortical Development Type II  No neuronal dysmorphia   \n",
       "3                          Ganglioglioma WHO grade I   Neuroeptihelial tumor   \n",
       "4                   Focal Cortical Dysplasia Type Ib           Dyslamination   \n",
       "\n",
       "                   imaging results immunohistochemistry  \\\n",
       "0      Left inferior frontal gyrus     NFSMI32-positive   \n",
       "1              Right frontal  lobe     NFSMI32-negative   \n",
       "2               Temporal lobe mass        MAP2-positive   \n",
       "3  Right posterior temporal lesion        GFAP-positive   \n",
       "4                           Normal        MAP2-positive   \n",
       "\n",
       "            brain localization  \n",
       "0  Left inferior frontal gyrus  \n",
       "1           Right frontal lobe  \n",
       "2           Left temporal lobe  \n",
       "3     Right posterior temporal  \n",
       "4           Right frontal lobe  "
      ]
     },
     "execution_count": 175,
     "metadata": {},
     "output_type": "execute_result"
    }
   ],
   "source": [
    "#making testing dataframe\n",
    "df3 = pd.DataFrame(x_test)\n",
    "df3 = df3.rename(columns={0:'microscopy', 1:'imaging results', 2:'immunohistochemistry', 3:'brain localization'})\n",
    "df4 = pd.DataFrame(y_test)\n",
    "df4 = df4.rename(columns={0:'diagnosis'})\n",
    "df_test=pd.concat([df4, df3], axis = 1)\n",
    "df_test.head()"
   ]
  },
  {
   "cell_type": "code",
   "execution_count": null,
   "id": "3fc113f7",
   "metadata": {},
   "outputs": [],
   "source": []
  },
  {
   "cell_type": "code",
   "execution_count": 176,
   "id": "df7b964f",
   "metadata": {},
   "outputs": [],
   "source": [
    "max_features = 1000\n",
    "max_len = 200\n",
    "vectorize_layer = tf.keras.layers.TextVectorization(\n",
    "max_tokens = max_features, output_mode = 'int',\n",
    "output_sequence_length=max_len)"
   ]
  },
  {
   "cell_type": "code",
   "execution_count": 177,
   "id": "bb368282",
   "metadata": {},
   "outputs": [
    {
     "name": "stdout",
     "output_type": "stream",
     "text": [
      "(46, 457)\n"
     ]
    }
   ],
   "source": [
    "# text vectorization for training data\n",
    "# text vectorization for output (diagnosis)\n",
    "text_vectorizer = layers.TextVectorization(output_mode=\"multi_hot\", ngrams=3)\n",
    "text_vectorizer.adapt(df_train['diagnosis'])\n",
    "train_d = text_vectorizer(df_train['diagnosis'])\n",
    "\n",
    "# text vectorization for microscopy\n",
    "text_vectorizer = layers.TextVectorization(output_mode=\"multi_hot\", ngrams=3)\n",
    "text_vectorizer.adapt(df_train['microscopy'])\n",
    "train_m = text_vectorizer(df_train['microscopy'])\n",
    "\n",
    "# text vectorization for imaging results\n",
    "text_vectorizer = layers.TextVectorization(output_mode=\"multi_hot\", ngrams=3)\n",
    "text_vectorizer.adapt(df_train['imaging results'])\n",
    "train_i = text_vectorizer(df_train['imaging results'])\n",
    "\n",
    "\n",
    "# text vectorization for immunohistochemistry\n",
    "text_vectorizer = layers.TextVectorization(output_mode=\"multi_hot\", ngrams=3)\n",
    "text_vectorizer.adapt(df_train['immunohistochemistry'])\n",
    "train_immuno = text_vectorizer(df_train['immunohistochemistry'])\n",
    "\n",
    "\n",
    "# text vectorization for brain localization\n",
    "text_vectorizer = layers.TextVectorization(output_mode=\"multi_hot\", ngrams=3)\n",
    "text_vectorizer.adapt(df_train['brain localization'])\n",
    "train_bl = text_vectorizer(df_train['brain localization'])\n",
    "\n",
    "\n",
    "# combining text vectorizations into one training \n",
    "x_train = tf.concat([train_m, train_i, train_immuno, train_bl], axis = 1)\n",
    "print (x_train.shape)"
   ]
  },
  {
   "cell_type": "code",
   "execution_count": 178,
   "id": "aab635e6",
   "metadata": {},
   "outputs": [
    {
     "name": "stdout",
     "output_type": "stream",
     "text": [
      "(46, 60)\n"
     ]
    }
   ],
   "source": [
    "print(train_d.shape)"
   ]
  },
  {
   "cell_type": "code",
   "execution_count": 179,
   "id": "34d56c1f",
   "metadata": {},
   "outputs": [
    {
     "name": "stdout",
     "output_type": "stream",
     "text": [
      "(32, 378)\n"
     ]
    }
   ],
   "source": [
    "# text vectorization for testing data\n",
    "# text vectorization for output(diagnosis)\n",
    "text_vectorizer = layers.TextVectorization(output_mode=\"multi_hot\", ngrams=3)\n",
    "text_vectorizer.adapt(df_test['diagnosis'])\n",
    "test_d = text_vectorizer(df_test['diagnosis'])\n",
    "\n",
    "# text vectorization for microscopy\n",
    "text_vectorizer = layers.TextVectorization(output_mode=\"multi_hot\", ngrams=3)\n",
    "text_vectorizer.adapt(df_test['microscopy'])\n",
    "test_m = text_vectorizer(df_test['microscopy'])\n",
    "\n",
    "# text vectorization for imaging results\n",
    "text_vectorizer = layers.TextVectorization(output_mode=\"multi_hot\", ngrams=3)\n",
    "text_vectorizer.adapt(df_test['imaging results'])\n",
    "test_i = text_vectorizer(df_test['imaging results'])\n",
    "\n",
    "# text vectorization for immunohistochemistry\n",
    "text_vectorizer = layers.TextVectorization(output_mode=\"multi_hot\", ngrams=3)\n",
    "text_vectorizer.adapt(df_test['immunohistochemistry'])\n",
    "test_immuno = text_vectorizer(df_test['immunohistochemistry'])\n",
    "\n",
    "# text vectorization for brain localization\n",
    "text_vectorizer = layers.TextVectorization(output_mode=\"multi_hot\", ngrams=3)\n",
    "text_vectorizer.adapt(df_test['brain localization'])\n",
    "test_bl = text_vectorizer(df_test['brain localization'])\n",
    "\n",
    "# combing text vectorizations into testing data\n",
    "x_test = tf.concat([test_m, test_i, test_immuno, test_bl], axis = 1)\n",
    "print (x_test.shape)"
   ]
  },
  {
   "cell_type": "code",
   "execution_count": 180,
   "id": "140cf219",
   "metadata": {},
   "outputs": [
    {
     "name": "stdout",
     "output_type": "stream",
     "text": [
      "(32, 60)\n"
     ]
    }
   ],
   "source": [
    "print(test_d.shape)"
   ]
  },
  {
   "cell_type": "code",
   "execution_count": 188,
   "id": "3bd9f577",
   "metadata": {},
   "outputs": [],
   "source": [
    "from tensorflow import keras\n",
    "from tensorflow.keras import layers\n",
    "\n",
    "def build_model():\n",
    "    model = keras.Sequential([\n",
    "        layers.Dense(64, activation = \"relu\"),\n",
    "        layers.Dense(64, activation = \"relu\"),\n",
    "        layers.Dense(1)\n",
    "    ])\n",
    "    model.compile(optimizer = \"rmsprop\", loss = \"mse\", metrics = [\"mae\"])\n",
    "    return model"
   ]
  },
  {
   "cell_type": "code",
   "execution_count": 189,
   "id": "72258701",
   "metadata": {},
   "outputs": [],
   "source": [
    "k = 4\n",
    "num_val_samples = len(x_train) //k # \"//\" is Floor division (rounds to nearest whole number)\n",
    "num_epochs = 10\n",
    "all_scores = []"
   ]
  },
  {
   "cell_type": "code",
   "execution_count": 190,
   "id": "0e3d66e3",
   "metadata": {},
   "outputs": [
    {
     "name": "stdout",
     "output_type": "stream",
     "text": [
      "Processing fold #0\n",
      "Processing fold #1\n",
      "Processing fold #2\n",
      "Processing fold #3\n"
     ]
    }
   ],
   "source": [
    "for i in range(k):\n",
    "    print(f\"Processing fold #{i}\")\n",
    "    val_data = x_train[i * num_val_samples: (i + 1) * num_val_samples]\n",
    "    val_targets = train_d[i * num_val_samples: (i + 1) * num_val_samples]\n",
    "    \n",
    "    partial_train_data = np.concatenate(\n",
    "    [x_train[:i * num_val_samples],\n",
    "    x_train[(i + 1) * num_val_samples:]],\n",
    "    axis = 0)\n",
    "    \n",
    "    partial_train_targets = np.concatenate(\n",
    "    [train_d[:i * num_val_samples],\n",
    "    train_d[(i + 1) * num_val_samples:]],\n",
    "    axis = 0)\n",
    "    \n",
    "    model = build_model()\n",
    "    \n",
    "    model.fit(partial_train_data, partial_train_targets,\n",
    "             epochs = num_epochs, batch_size = 16, verbose = 0)\n",
    "    val_mse, val_mae = model.evaluate(val_data, val_targets, verbose = 0)\n",
    "    all_scores.append(val_mae)"
   ]
  },
  {
   "cell_type": "code",
   "execution_count": 196,
   "id": "b2ee177f",
   "metadata": {},
   "outputs": [
    {
     "name": "stdout",
     "output_type": "stream",
     "text": [
      "Processing fold #0\n",
      "WARNING:tensorflow:5 out of the last 5 calls to <function Model.make_test_function.<locals>.test_function at 0x1bb207520> triggered tf.function retracing. Tracing is expensive and the excessive number of tracings could be due to (1) creating @tf.function repeatedly in a loop, (2) passing tensors with different shapes, (3) passing Python objects instead of tensors. For (1), please define your @tf.function outside of the loop. For (2), @tf.function has experimental_relax_shapes=True option that relaxes argument shapes that can avoid unnecessary retracing. For (3), please refer to https://www.tensorflow.org/guide/function#controlling_retracing and https://www.tensorflow.org/api_docs/python/tf/function for  more details.\n",
      "Processing fold #1\n",
      "Processing fold #2\n",
      "Processing fold #3\n"
     ]
    }
   ],
   "source": [
    "all_mae_histories = []\n",
    "\n",
    "for i in range(k):\n",
    "    print(f\"Processing fold #{i}\")\n",
    "    val_data = x_train[i * num_val_samples: (i + 1) * num_val_samples]\n",
    "    val_targets = train_d[i * num_val_samples: (i + 1) * num_val_samples]\n",
    "    \n",
    "    partial_train_data = np.concatenate(\n",
    "    [x_train[:i * num_val_samples],\n",
    "     x_train[(i + 1) * num_val_samples:]],\n",
    "    axis = 0)\n",
    "    \n",
    "    model = build_model()\n",
    "    \n",
    "    history = model.fit(partial_train_data, partial_train_targets,\n",
    "                       validation_data = (val_data, val_targets),\n",
    "                       epochs = num_epochs, batch_size = 16, verbose = 0)\n",
    "    \n",
    "    mae_history = history.history[\"val_mae\"]\n",
    "    all_mae_histories.append(mae_history)"
   ]
  },
  {
   "cell_type": "code",
   "execution_count": 197,
   "id": "7611b0e5",
   "metadata": {},
   "outputs": [],
   "source": [
    "average_mae_history = [\n",
    "    np.mean([x[i] for x in all_mae_histories]) for i in range(num_epochs)]"
   ]
  },
  {
   "cell_type": "code",
   "execution_count": 198,
   "id": "dd364838",
   "metadata": {},
   "outputs": [
    {
     "data": {
      "image/png": "[encoded data removed]",
      "text/plain": [
       "<Figure size 432x288 with 1 Axes>"
      ]
     },
     "metadata": {
      "needs_background": "light"
     },
     "output_type": "display_data"
    }
   ],
   "source": [
    "import matplotlib.pyplot as plt\n",
    "\n",
    "plt.plot(range(1, len(average_mae_history) + 1), average_mae_history)\n",
    "plt.xlabel(\"Epochs\")\n",
    "plt.ylabel(\"Validation MAE\")\n",
    "plt.show()"
   ]
  },
  {
   "cell_type": "code",
   "execution_count": null,
   "id": "ec02c5f6",
   "metadata": {},
   "outputs": [],
   "source": []
  }
 ],
 "metadata": {
  "kernelspec": {
   "display_name": "Python [conda env:tf]",
   "language": "python",
   "name": "conda-env-tf-py"
  },
  "language_info": {
   "codemirror_mode": {
    "name": "ipython",
    "version": 3
   },
   "file_extension": ".py",
   "mimetype": "text/x-python",
   "name": "python",
   "nbconvert_exporter": "python",
   "pygments_lexer": "ipython3",
   "version": "3.10.2"
  }
 },
 "nbformat": 4,
 "nbformat_minor": 5
}

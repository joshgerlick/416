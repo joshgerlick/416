{
 "cells": [
  {
   "cell_type": "code",
   "execution_count": 1,
   "id": "9c1a56ac",
   "metadata": {},
   "outputs": [],
   "source": [
    "import numpy as np\n",
    "import pandas as pd\n",
    "\n",
    "np.set_printoptions(precision = 3, suppress = True)\n",
    "\n",
    "import tensorflow as tf\n",
    "from tensorflow.keras import layers"
   ]
  },
  {
   "cell_type": "code",
   "execution_count": 2,
   "id": "bb009b5b",
   "metadata": {},
   "outputs": [],
   "source": [
    "# loading csv data\n",
    "df = pd.read_csv(\"/Users/olivia.wilcox13/Documents/PQHS 416/pqhs416_dataset.csv\")\n",
    "\n"
   ]
  },
  {
   "cell_type": "code",
   "execution_count": 3,
   "id": "a0ba2511",
   "metadata": {},
   "outputs": [
    {
     "data": {
      "text/plain": [
       "(80,)"
      ]
     },
     "execution_count": 3,
     "metadata": {},
     "output_type": "execute_result"
    }
   ],
   "source": [
    "y = df['DIAGNOSIS'].values\n",
    "y.shape"
   ]
  },
  {
   "cell_type": "code",
   "execution_count": 4,
   "id": "0d70e677",
   "metadata": {},
   "outputs": [
    {
     "data": {
      "text/plain": [
       "(80, 4)"
      ]
     },
     "execution_count": 4,
     "metadata": {},
     "output_type": "execute_result"
    }
   ],
   "source": [
    "x = df[['MICROSCOPY','IMAGING RESULTS','IMMUNOHISTOCHEMISTRY','BRAIN LOCALIZATION']].values\n",
    "x.shape"
   ]
  },
  {
   "cell_type": "code",
   "execution_count": 5,
   "id": "65b949d2",
   "metadata": {},
   "outputs": [
    {
     "data": {
      "text/plain": [
       "(48, 4)"
      ]
     },
     "execution_count": 5,
     "metadata": {},
     "output_type": "execute_result"
    }
   ],
   "source": [
    "import matplotlib.pyplot as plt\n",
    "from sklearn.model_selection import train_test_split\n",
    "\n",
    "#splitting into training and testing\n",
    "(x_train, x_test, y_train, y_test) = train_test_split(x,y, test_size = 0.4)\n",
    "x_train.shape"
   ]
  },
  {
   "cell_type": "code",
   "execution_count": 6,
   "id": "9bac388a",
   "metadata": {},
   "outputs": [
    {
     "data": {
      "text/html": [
       "<div>\n",
       "<style scoped>\n",
       "    .dataframe tbody tr th:only-of-type {\n",
       "        vertical-align: middle;\n",
       "    }\n",
       "\n",
       "    .dataframe tbody tr th {\n",
       "        vertical-align: top;\n",
       "    }\n",
       "\n",
       "    .dataframe thead th {\n",
       "        text-align: right;\n",
       "    }\n",
       "</style>\n",
       "<table border=\"1\" class=\"dataframe\">\n",
       "  <thead>\n",
       "    <tr style=\"text-align: right;\">\n",
       "      <th></th>\n",
       "      <th>diagnosis</th>\n",
       "      <th>microscopy</th>\n",
       "      <th>imaging results</th>\n",
       "      <th>immunohistochemistry</th>\n",
       "      <th>brain localization</th>\n",
       "    </tr>\n",
       "  </thead>\n",
       "  <tbody>\n",
       "    <tr>\n",
       "      <th>0</th>\n",
       "      <td>Mild Malformation of Cortical Development Type II</td>\n",
       "      <td>Ectopic neurons in white matter</td>\n",
       "      <td>Hyperintense right amygdala</td>\n",
       "      <td>MAP2-positive</td>\n",
       "      <td>Right temporal lobe</td>\n",
       "    </tr>\n",
       "    <tr>\n",
       "      <th>1</th>\n",
       "      <td>Focal Cortical Dysplasia Type Ib</td>\n",
       "      <td>Infiltrating macrophage</td>\n",
       "      <td>MRI negative</td>\n",
       "      <td>MAP2-positive</td>\n",
       "      <td>Right frontal lobe</td>\n",
       "    </tr>\n",
       "    <tr>\n",
       "      <th>2</th>\n",
       "      <td>Focal Cortical Dysplasia Type Ib</td>\n",
       "      <td>Laminar cortical architecture disturbed</td>\n",
       "      <td>Focal Cortical Dysplasia in right temporo-occi...</td>\n",
       "      <td>GFAP-positive</td>\n",
       "      <td>Right temporo-occipital</td>\n",
       "    </tr>\n",
       "    <tr>\n",
       "      <th>3</th>\n",
       "      <td>Hippocampal sclerosis type I</td>\n",
       "      <td>No neuronal dysmorphia</td>\n",
       "      <td>Right hippocampal sclerosis</td>\n",
       "      <td>MAP2-negative</td>\n",
       "      <td>Right mesial temporal lobe</td>\n",
       "    </tr>\n",
       "    <tr>\n",
       "      <th>4</th>\n",
       "      <td>Hippocampal sclerosis type I</td>\n",
       "      <td>Horizontal dyslamination</td>\n",
       "      <td>Global cortical atrophy</td>\n",
       "      <td>NeuN-positive</td>\n",
       "      <td>Temporal lobe</td>\n",
       "    </tr>\n",
       "  </tbody>\n",
       "</table>\n",
       "</div>"
      ],
      "text/plain": [
       "                                           diagnosis  \\\n",
       "0  Mild Malformation of Cortical Development Type II   \n",
       "1                   Focal Cortical Dysplasia Type Ib   \n",
       "2                   Focal Cortical Dysplasia Type Ib   \n",
       "3                       Hippocampal sclerosis type I   \n",
       "4                       Hippocampal sclerosis type I   \n",
       "\n",
       "                                microscopy  \\\n",
       "0          Ectopic neurons in white matter   \n",
       "1                  Infiltrating macrophage   \n",
       "2  Laminar cortical architecture disturbed   \n",
       "3                   No neuronal dysmorphia   \n",
       "4                 Horizontal dyslamination   \n",
       "\n",
       "                                     imaging results immunohistochemistry  \\\n",
       "0                        Hyperintense right amygdala        MAP2-positive   \n",
       "1                                       MRI negative        MAP2-positive   \n",
       "2  Focal Cortical Dysplasia in right temporo-occi...        GFAP-positive   \n",
       "3                        Right hippocampal sclerosis        MAP2-negative   \n",
       "4                            Global cortical atrophy        NeuN-positive   \n",
       "\n",
       "           brain localization  \n",
       "0         Right temporal lobe  \n",
       "1          Right frontal lobe  \n",
       "2     Right temporo-occipital  \n",
       "3  Right mesial temporal lobe  \n",
       "4               Temporal lobe  "
      ]
     },
     "execution_count": 6,
     "metadata": {},
     "output_type": "execute_result"
    }
   ],
   "source": [
    "#making training dataframe\n",
    "df1 =pd.DataFrame(x_train)\n",
    "df1=df1.rename(columns={0:'microscopy', 1:'imaging results', 2:'immunohistochemistry', 3:'brain localization'})\n",
    "df2 = pd.DataFrame(y_train)\n",
    "df2 = df2.rename(columns = {0:'diagnosis'})\n",
    "df_train = pd.concat([df2, df1], axis=1)\n",
    "df_train.head()"
   ]
  },
  {
   "cell_type": "code",
   "execution_count": 7,
   "id": "ffdaf1bc",
   "metadata": {},
   "outputs": [
    {
     "data": {
      "text/html": [
       "<div>\n",
       "<style scoped>\n",
       "    .dataframe tbody tr th:only-of-type {\n",
       "        vertical-align: middle;\n",
       "    }\n",
       "\n",
       "    .dataframe tbody tr th {\n",
       "        vertical-align: top;\n",
       "    }\n",
       "\n",
       "    .dataframe thead th {\n",
       "        text-align: right;\n",
       "    }\n",
       "</style>\n",
       "<table border=\"1\" class=\"dataframe\">\n",
       "  <thead>\n",
       "    <tr style=\"text-align: right;\">\n",
       "      <th></th>\n",
       "      <th>diagnosis</th>\n",
       "      <th>microscopy</th>\n",
       "      <th>imaging results</th>\n",
       "      <th>immunohistochemistry</th>\n",
       "      <th>brain localization</th>\n",
       "    </tr>\n",
       "  </thead>\n",
       "  <tbody>\n",
       "    <tr>\n",
       "      <th>0</th>\n",
       "      <td>Focal Cortical Dysplasia TypeIIb</td>\n",
       "      <td>Cortical dyslamination</td>\n",
       "      <td>Left parieto-temporal lesion</td>\n",
       "      <td>MAP2-positive</td>\n",
       "      <td>Left parieto-temporal region</td>\n",
       "    </tr>\n",
       "    <tr>\n",
       "      <th>1</th>\n",
       "      <td>Mild Malformation of Cortical Development</td>\n",
       "      <td>No vertical dyslamination</td>\n",
       "      <td>Right frontopolar dysplasia</td>\n",
       "      <td>MAP2-positive</td>\n",
       "      <td>Frontal lobe</td>\n",
       "    </tr>\n",
       "    <tr>\n",
       "      <th>2</th>\n",
       "      <td>Oligodendroglial hyperplasia</td>\n",
       "      <td>No neuronal dysmorphia</td>\n",
       "      <td>Right frontal lobe</td>\n",
       "      <td>MAP2-positive</td>\n",
       "      <td>Right frontal lobe</td>\n",
       "    </tr>\n",
       "    <tr>\n",
       "      <th>3</th>\n",
       "      <td>Mild Malformation of Cortical Development Type II</td>\n",
       "      <td>Blurred gray white matter</td>\n",
       "      <td>Encephalocele</td>\n",
       "      <td>NeuN-negative</td>\n",
       "      <td>Right temporal lobe</td>\n",
       "    </tr>\n",
       "    <tr>\n",
       "      <th>4</th>\n",
       "      <td>Mild Malformation of Cortical Development Type II</td>\n",
       "      <td>Blurred gray white matter</td>\n",
       "      <td>Negative 3Tesla MRI</td>\n",
       "      <td>MAP2-positive</td>\n",
       "      <td>Right frontal lobe</td>\n",
       "    </tr>\n",
       "  </tbody>\n",
       "</table>\n",
       "</div>"
      ],
      "text/plain": [
       "                                           diagnosis  \\\n",
       "0                   Focal Cortical Dysplasia TypeIIb   \n",
       "1          Mild Malformation of Cortical Development   \n",
       "2                       Oligodendroglial hyperplasia   \n",
       "3  Mild Malformation of Cortical Development Type II   \n",
       "4  Mild Malformation of Cortical Development Type II   \n",
       "\n",
       "                  microscopy               imaging results  \\\n",
       "0     Cortical dyslamination  Left parieto-temporal lesion   \n",
       "1  No vertical dyslamination   Right frontopolar dysplasia   \n",
       "2     No neuronal dysmorphia            Right frontal lobe   \n",
       "3  Blurred gray white matter                 Encephalocele   \n",
       "4  Blurred gray white matter           Negative 3Tesla MRI   \n",
       "\n",
       "  immunohistochemistry            brain localization  \n",
       "0        MAP2-positive  Left parieto-temporal region  \n",
       "1        MAP2-positive                  Frontal lobe  \n",
       "2        MAP2-positive            Right frontal lobe  \n",
       "3        NeuN-negative           Right temporal lobe  \n",
       "4        MAP2-positive            Right frontal lobe  "
      ]
     },
     "execution_count": 7,
     "metadata": {},
     "output_type": "execute_result"
    }
   ],
   "source": [
    "#making testing dataframe\n",
    "df3 = pd.DataFrame(x_test)\n",
    "df3 = df3.rename(columns={0:'microscopy', 1:'imaging results', 2:'immunohistochemistry', 3:'brain localization'})\n",
    "df4 = pd.DataFrame(y_test)\n",
    "df4 = df4.rename(columns={0:'diagnosis'})\n",
    "df_test=pd.concat([df4, df3], axis = 1)\n",
    "df_test.head()"
   ]
  },
  {
   "cell_type": "code",
   "execution_count": 8,
   "id": "df7b964f",
   "metadata": {},
   "outputs": [
    {
     "name": "stderr",
     "output_type": "stream",
     "text": [
      "2022-04-19 16:40:05.572230: I tensorflow/core/platform/cpu_feature_guard.cc:151] This TensorFlow binary is optimized with oneAPI Deep Neural Network Library (oneDNN) to use the following CPU instructions in performance-critical operations:  SSE4.1 SSE4.2\n",
      "To enable them in other operations, rebuild TensorFlow with the appropriate compiler flags.\n"
     ]
    }
   ],
   "source": [
    "max_features = 1000\n",
    "max_len = 200\n",
    "vectorize_layer = tf.keras.layers.TextVectorization(\n",
    "max_tokens = max_features, output_mode = 'int',\n",
    "output_sequence_length=max_len)"
   ]
  },
  {
   "cell_type": "code",
   "execution_count": 9,
   "id": "bb368282",
   "metadata": {},
   "outputs": [
    {
     "name": "stdout",
     "output_type": "stream",
     "text": [
      "WARNING:tensorflow:5 out of the last 9 calls to <function PreprocessingLayer.make_adapt_function.<locals>.adapt_step at 0x1b79feb90> triggered tf.function retracing. Tracing is expensive and the excessive number of tracings could be due to (1) creating @tf.function repeatedly in a loop, (2) passing tensors with different shapes, (3) passing Python objects instead of tensors. For (1), please define your @tf.function outside of the loop. For (2), @tf.function has experimental_relax_shapes=True option that relaxes argument shapes that can avoid unnecessary retracing. For (3), please refer to https://www.tensorflow.org/guide/function#controlling_retracing and https://www.tensorflow.org/api_docs/python/tf/function for  more details.\n",
      "(48, 505)\n"
     ]
    }
   ],
   "source": [
    "# text vectorization for training data\n",
    "# text vectorization for output (diagnosis)\n",
    "text_vectorizer = layers.TextVectorization(output_mode=\"multi_hot\", ngrams=3)\n",
    "text_vectorizer.adapt(df_train['diagnosis'])\n",
    "train_d = text_vectorizer(df_train['diagnosis'])\n",
    "\n",
    "# text vectorization for microscopy\n",
    "text_vectorizer = layers.TextVectorization(output_mode=\"multi_hot\", ngrams=3)\n",
    "text_vectorizer.adapt(df_train['microscopy'])\n",
    "train_m = text_vectorizer(df_train['microscopy'])\n",
    "\n",
    "# text vectorization for imaging results\n",
    "text_vectorizer = layers.TextVectorization(output_mode=\"multi_hot\", ngrams=3)\n",
    "text_vectorizer.adapt(df_train['imaging results'])\n",
    "train_i = text_vectorizer(df_train['imaging results'])\n",
    "\n",
    "\n",
    "# text vectorization for immunohistochemistry\n",
    "text_vectorizer = layers.TextVectorization(output_mode=\"multi_hot\", ngrams=3)\n",
    "text_vectorizer.adapt(df_train['immunohistochemistry'])\n",
    "train_immuno = text_vectorizer(df_train['immunohistochemistry'])\n",
    "\n",
    "\n",
    "# text vectorization for brain localization\n",
    "text_vectorizer = layers.TextVectorization(output_mode=\"multi_hot\", ngrams=3)\n",
    "text_vectorizer.adapt(df_train['brain localization'])\n",
    "train_bl = text_vectorizer(df_train['brain localization'])\n",
    "\n",
    "\n",
    "# combining text vectorizations into one training \n",
    "x_train = tf.concat([train_m, train_i, train_immuno, train_bl], axis = 1)\n",
    "print (x_train.shape)"
   ]
  },
  {
   "cell_type": "code",
   "execution_count": 10,
   "id": "34d56c1f",
   "metadata": {},
   "outputs": [
    {
     "name": "stdout",
     "output_type": "stream",
     "text": [
      "WARNING:tensorflow:6 out of the last 11 calls to <function PreprocessingLayer.make_adapt_function.<locals>.adapt_step at 0x1b79ff370> triggered tf.function retracing. Tracing is expensive and the excessive number of tracings could be due to (1) creating @tf.function repeatedly in a loop, (2) passing tensors with different shapes, (3) passing Python objects instead of tensors. For (1), please define your @tf.function outside of the loop. For (2), @tf.function has experimental_relax_shapes=True option that relaxes argument shapes that can avoid unnecessary retracing. For (3), please refer to https://www.tensorflow.org/guide/function#controlling_retracing and https://www.tensorflow.org/api_docs/python/tf/function for  more details.\n"
     ]
    }
   ],
   "source": [
    "# text vectorization for testing data\n",
    "# text vectorization for output(diagnosis)\n",
    "text_vectorizer = layers.TextVectorization(output_mode=\"multi_hot\", ngrams=3)\n",
    "text_vectorizer.adapt(df_test['diagnosis'])\n",
    "test_d = text_vectorizer(df_test['diagnosis'])\n",
    "\n",
    "# text vectorization for microscopy\n",
    "text_vectorizer = layers.TextVectorization(output_mode=\"multi_hot\", ngrams=3)\n",
    "text_vectorizer.adapt(df_test['microscopy'])\n",
    "test_m = text_vectorizer(df_test['microscopy'])\n",
    "\n",
    "# text vectorization for imaging results\n",
    "text_vectorizer = layers.TextVectorization(output_mode=\"multi_hot\", ngrams=3)\n",
    "text_vectorizer.adapt(df_test['imaging results'])\n",
    "test_i = text_vectorizer(df_test['imaging results'])\n",
    "\n",
    "# text vectorization for immunohistochemistry\n",
    "text_vectorizer = layers.TextVectorization(output_mode=\"multi_hot\", ngrams=3)\n",
    "text_vectorizer.adapt(df_test['immunohistochemistry'])\n",
    "test_immuno = text_vectorizer(df_test['immunohistochemistry'])\n",
    "\n",
    "# text vectorization for brain localization\n",
    "text_vectorizer = layers.TextVectorization(output_mode=\"multi_hot\", ngrams=3)\n",
    "text_vectorizer.adapt(df_test['brain localization'])\n",
    "test_bl = text_vectorizer(df_test['brain localization'])\n",
    "\n",
    "# combing text vectorizations into testing data\n",
    "x_test = tf.concat([test_d, test_m, test_i, test_immuno, test_bl], axis = 1)"
   ]
  },
  {
   "cell_type": "code",
   "execution_count": 11,
   "id": "140cf219",
   "metadata": {},
   "outputs": [],
   "source": [
    "from tensorflow.keras.utils import to_categorical\n",
    "y_train = to_categorical (train_d)"
   ]
  },
  {
   "cell_type": "code",
   "execution_count": null,
   "id": "3bd9f577",
   "metadata": {},
   "outputs": [],
   "source": []
  },
  {
   "cell_type": "code",
   "execution_count": null,
   "id": "72258701",
   "metadata": {},
   "outputs": [],
   "source": []
  },
  {
   "cell_type": "code",
   "execution_count": null,
   "id": "0e3d66e3",
   "metadata": {},
   "outputs": [],
   "source": []
  },
  {
   "cell_type": "code",
   "execution_count": null,
   "id": "dd364838",
   "metadata": {},
   "outputs": [],
   "source": []
  }
 ],
 "metadata": {
  "kernelspec": {
   "display_name": "Python [conda env:tf]",
   "language": "python",
   "name": "conda-env-tf-py"
  },
  "language_info": {
   "codemirror_mode": {
    "name": "ipython",
    "version": 3
   },
   "file_extension": ".py",
   "mimetype": "text/x-python",
   "name": "python",
   "nbconvert_exporter": "python",
   "pygments_lexer": "ipython3",
   "version": "3.10.2"
  }
 },
 "nbformat": 4,
 "nbformat_minor": 5
}
